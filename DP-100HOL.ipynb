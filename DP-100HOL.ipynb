{
  "cells": [
    {
      "cell_type": "code",
      "source": [
        "print(\"Hello World\")"
      ],
      "outputs": [],
      "execution_count": null,
      "metadata": {
        "jupyter": {
          "source_hidden": false,
          "outputs_hidden": false
        },
        "nteract": {
          "transient": {
            "deleting": false
          }
        },
        "gather": {
          "logged": 1692218152943
        }
      }
    },
    {
      "cell_type": "markdown",
      "source": [
        "#### **Load a Dataframe**"
      ],
      "metadata": {
        "nteract": {
          "transient": {
            "deleting": false
          }
        }
      }
    },
    {
      "cell_type": "code",
      "source": [
        "\n",
        "import pandas as pd\n",
        "\n",
        "url_github = 'https://raw.githubusercontent.com/pluralsight-cloud/DP-100-Designing-and-Implementing-a-Data-Science-Solution-on-Azure/main/MedicalClaimSummary.csv'\n",
        "\n",
        "my_dataframe = pd.read_csv(url_github)\n",
        "\n",
        "my_dataframe.head(1000)"
      ],
      "outputs": [],
      "execution_count": null,
      "metadata": {
        "jupyter": {
          "source_hidden": false,
          "outputs_hidden": false
        },
        "nteract": {
          "transient": {
            "deleting": false
          }
        },
        "gather": {
          "logged": 1692214987933
        }
      }
    },
    {
      "cell_type": "markdown",
      "source": [
        "#### **Wrangle: Replace Missing Strings**"
      ],
      "metadata": {
        "nteract": {
          "transient": {
            "deleting": false
          }
        }
      }
    },
    {
      "cell_type": "code",
      "source": [
        "my_dataframe.fillna(\n",
        "    value={\"Claim Network Status\": \"Unknown\"}, inplace=True)\n",
        "my_dataframe.fillna(\n",
        "    value={\"Payment Status\": \"Unknown\"}, inplace=True)\n",
        "my_dataframe.head(1000)"
      ],
      "outputs": [],
      "execution_count": null,
      "metadata": {
        "jupyter": {
          "source_hidden": false,
          "outputs_hidden": false
        },
        "nteract": {
          "transient": {
            "deleting": false
          }
        },
        "gather": {
          "logged": 1692214997531
        }
      }
    },
    {
      "cell_type": "markdown",
      "source": [
        "#### **Wrangle: Delete Rows with Any Empty Columns**"
      ],
      "metadata": {
        "nteract": {
          "transient": {
            "deleting": false
          }
        }
      }
    },
    {
      "cell_type": "code",
      "source": [
        "my_dataframe.dropna(inplace=True)  # Drop the rows which have any columns with missing values\n",
        "my_dataframe.head(1000)"
      ],
      "outputs": [],
      "execution_count": null,
      "metadata": {
        "jupyter": {
          "source_hidden": false,
          "outputs_hidden": false
        },
        "nteract": {
          "transient": {
            "deleting": false
          }
        },
        "gather": {
          "logged": 1692215004424
        }
      }
    },
    {
      "cell_type": "markdown",
      "source": [
        "#### **Wrangle: Remove Duplicate Rows**"
      ],
      "metadata": {
        "nteract": {
          "transient": {
            "deleting": false
          }
        }
      }
    },
    {
      "cell_type": "code",
      "source": [
        "my_dataframe.drop_duplicates(inplace=True) #keeps the first occurrence, by default\n",
        "my_dataframe.sort_index(inplace=True) #de-duping will cause rows to land out of original order\n",
        "my_dataframe.head(1000)"
      ],
      "outputs": [],
      "execution_count": null,
      "metadata": {
        "jupyter": {
          "source_hidden": false,
          "outputs_hidden": false
        },
        "nteract": {
          "transient": {
            "deleting": false
          }
        },
        "gather": {
          "logged": 1692215016614
        }
      }
    },
    {
      "cell_type": "markdown",
      "source": [
        "#### **Persist the Transformed Data**"
      ],
      "metadata": {
        "nteract": {
          "transient": {
            "deleting": false
          }
        }
      }
    },
    {
      "cell_type": "code",
      "source": [
        "my_dataframe.to_csv(\"WrangledData.csv\")"
      ],
      "outputs": [],
      "execution_count": null,
      "metadata": {
        "jupyter": {
          "source_hidden": false,
          "outputs_hidden": false
        },
        "nteract": {
          "transient": {
            "deleting": false
          }
        },
        "gather": {
          "logged": 1692215060043
        }
      }
    }
  ],
  "metadata": {
    "kernelspec": {
      "name": "synapse_pyspark",
      "language": "Python",
      "display_name": "Synapse PySpark"
    },
    "language_info": {
      "name": "python",
      "version": "3.8.0",
      "mimetype": "text/x-python",
      "file_extension": ".py",
      "pygments_lexer": "ipython",
      "codemirror_mode": "ipython",
      "nbconvert_exporter": "python"
    },
    "microsoft": {
      "ms_spell_check": {
        "ms_spell_check_language": "en"
      },
      "host": {
        "AzureML": {
          "notebookHasBeenCompleted": true
        }
      }
    },
    "kernel_info": {
      "name": "synapse_pyspark"
    },
    "nteract": {
      "version": "nteract-front-end@1.0.0"
    }
  },
  "nbformat": 4,
  "nbformat_minor": 2
}